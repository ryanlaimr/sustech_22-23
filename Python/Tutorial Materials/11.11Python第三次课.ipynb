{
 "cells": [
  {
   "cell_type": "markdown",
   "id": "cc8f4046",
   "metadata": {},
   "source": [
    "字符串：不可变的一种数据结构"
   ]
  },
  {
   "cell_type": "code",
   "execution_count": 1,
   "id": "7b3778ef",
   "metadata": {},
   "outputs": [],
   "source": [
    "s0 = 'myString'"
   ]
  },
  {
   "cell_type": "code",
   "execution_count": 2,
   "id": "b38eaf36",
   "metadata": {},
   "outputs": [
    {
     "name": "stdout",
     "output_type": "stream",
     "text": [
      "myString!!!\n"
     ]
    }
   ],
   "source": [
    "s1 = s0 + '!!!'\n",
    "print(s1)"
   ]
  },
  {
   "cell_type": "code",
   "execution_count": 3,
   "id": "7f973952",
   "metadata": {},
   "outputs": [
    {
     "name": "stdout",
     "output_type": "stream",
     "text": [
      "myStringmyStringmyString\n"
     ]
    }
   ],
   "source": [
    "s2 = s0 * 3\n",
    "print(s2)"
   ]
  },
  {
   "cell_type": "code",
   "execution_count": 4,
   "id": "a033560a",
   "metadata": {},
   "outputs": [
    {
     "name": "stdout",
     "output_type": "stream",
     "text": [
      "123.456\n"
     ]
    }
   ],
   "source": [
    "a = 123.456\n",
    "a = str(a)\n",
    "print(a)"
   ]
  },
  {
   "cell_type": "code",
   "execution_count": 5,
   "id": "c5bc7b49",
   "metadata": {},
   "outputs": [
    {
     "name": "stdout",
     "output_type": "stream",
     "text": [
      "7\n"
     ]
    }
   ],
   "source": [
    "print(len(a))"
   ]
  },
  {
   "cell_type": "code",
   "execution_count": 6,
   "id": "70006f97",
   "metadata": {},
   "outputs": [
    {
     "name": "stdout",
     "output_type": "stream",
     "text": [
      "6\n",
      ".\n"
     ]
    }
   ],
   "source": [
    "print(max(a))\n",
    "print(min(a))"
   ]
  },
  {
   "cell_type": "code",
   "execution_count": 7,
   "id": "d2d8713f",
   "metadata": {},
   "outputs": [
    {
     "name": "stdout",
     "output_type": "stream",
     "text": [
      "3\n"
     ]
    }
   ],
   "source": [
    "print(a[2])"
   ]
  },
  {
   "cell_type": "code",
   "execution_count": 8,
   "id": "9b4dc475",
   "metadata": {},
   "outputs": [
    {
     "name": "stdout",
     "output_type": "stream",
     "text": [
      "True\n",
      "True\n"
     ]
    }
   ],
   "source": [
    "print('3' in a)\n",
    "print('asd' not in a)"
   ]
  },
  {
   "cell_type": "code",
   "execution_count": 9,
   "id": "3ca147dd",
   "metadata": {},
   "outputs": [
    {
     "name": "stdout",
     "output_type": "stream",
     "text": [
      "True\n"
     ]
    }
   ],
   "source": [
    "print(s0 > a)"
   ]
  },
  {
   "cell_type": "code",
   "execution_count": 10,
   "id": "72e99ffa",
   "metadata": {},
   "outputs": [
    {
     "name": "stdout",
     "output_type": "stream",
     "text": [
      "23.\n"
     ]
    }
   ],
   "source": [
    "print(a[1:4])"
   ]
  },
  {
   "cell_type": "code",
   "execution_count": 11,
   "id": "0df6132e",
   "metadata": {},
   "outputs": [
    {
     "ename": "TypeError",
     "evalue": "sequence item 2: expected str instance, float found",
     "output_type": "error",
     "traceback": [
      "\u001b[1;31m---------------------------------------------------------------------------\u001b[0m",
      "\u001b[1;31mTypeError\u001b[0m                                 Traceback (most recent call last)",
      "\u001b[1;32m~\\AppData\\Local\\Temp/ipykernel_23800/2933066035.py\u001b[0m in \u001b[0;36m<module>\u001b[1;34m\u001b[0m\n\u001b[1;32m----> 1\u001b[1;33m \u001b[0mprint\u001b[0m\u001b[1;33m(\u001b[0m\u001b[1;34m'::'\u001b[0m\u001b[1;33m.\u001b[0m\u001b[0mjoin\u001b[0m\u001b[1;33m(\u001b[0m\u001b[1;33m[\u001b[0m\u001b[1;34m'123'\u001b[0m\u001b[1;33m,\u001b[0m \u001b[1;34m'asd'\u001b[0m\u001b[1;33m,\u001b[0m \u001b[1;36m2.312\u001b[0m\u001b[1;33m]\u001b[0m\u001b[1;33m)\u001b[0m\u001b[1;33m)\u001b[0m\u001b[1;33m\u001b[0m\u001b[1;33m\u001b[0m\u001b[0m\n\u001b[0m",
      "\u001b[1;31mTypeError\u001b[0m: sequence item 2: expected str instance, float found"
     ]
    }
   ],
   "source": [
    "print('::'.join(['123', 'asd', 2.312]))"
   ]
  },
  {
   "cell_type": "code",
   "execution_count": 12,
   "id": "d562c737",
   "metadata": {},
   "outputs": [
    {
     "name": "stdout",
     "output_type": "stream",
     "text": [
      "123::234\n"
     ]
    }
   ],
   "source": [
    "print('::'.join(['123','234']))"
   ]
  },
  {
   "cell_type": "code",
   "execution_count": 13,
   "id": "a83d3d67",
   "metadata": {},
   "outputs": [
    {
     "name": "stdout",
     "output_type": "stream",
     "text": [
      "['1', '123', '3.456']\n"
     ]
    }
   ],
   "source": [
    "print('1 123 3.456'.split())"
   ]
  },
  {
   "cell_type": "code",
   "execution_count": 14,
   "id": "220a091d",
   "metadata": {},
   "outputs": [
    {
     "name": "stdout",
     "output_type": "stream",
     "text": [
      "1 first,2 second\n"
     ]
    }
   ],
   "source": [
    "print('1{},2{}'.format(' first',' second'))"
   ]
  },
  {
   "cell_type": "code",
   "execution_count": 15,
   "id": "971d6c9c",
   "metadata": {},
   "outputs": [
    {
     "name": "stdout",
     "output_type": "stream",
     "text": [
      "first:1,second:2\n"
     ]
    }
   ],
   "source": [
    "a = 1\n",
    "b = 2\n",
    "print(f'first:{a},second:{b}')"
   ]
  },
  {
   "cell_type": "code",
   "execution_count": 16,
   "id": "883fb061",
   "metadata": {},
   "outputs": [
    {
     "name": "stdout",
     "output_type": "stream",
     "text": [
      "123\n",
      "234\n"
     ]
    }
   ],
   "source": [
    "s = '123\\n234'\n",
    "print(s)"
   ]
  },
  {
   "cell_type": "code",
   "execution_count": 17,
   "id": "437261e4",
   "metadata": {},
   "outputs": [
    {
     "name": "stdout",
     "output_type": "stream",
     "text": [
      "123\\n234\n"
     ]
    }
   ],
   "source": [
    "s = r'123\\n234'\n",
    "print(s)"
   ]
  },
  {
   "cell_type": "markdown",
   "id": "950e4d07",
   "metadata": {},
   "source": [
    "列表：一种可变的储存类型"
   ]
  },
  {
   "cell_type": "code",
   "execution_count": 18,
   "id": "1a4c5cb1",
   "metadata": {},
   "outputs": [
    {
     "name": "stdout",
     "output_type": "stream",
     "text": [
      "[1, 2.34, 'asd']\n"
     ]
    }
   ],
   "source": [
    "l1 = [1,2.34,'asd']\n",
    "print(l1)"
   ]
  },
  {
   "cell_type": "code",
   "execution_count": 19,
   "id": "63e76126",
   "metadata": {},
   "outputs": [
    {
     "name": "stdout",
     "output_type": "stream",
     "text": [
      "3\n"
     ]
    }
   ],
   "source": [
    "print(len(l1))"
   ]
  },
  {
   "cell_type": "code",
   "execution_count": 20,
   "id": "dd67377d",
   "metadata": {},
   "outputs": [
    {
     "name": "stdout",
     "output_type": "stream",
     "text": [
      "i: 0\n",
      "l1[0]: 1\n",
      "i: 1\n",
      "l1[1]: 2.34\n",
      "i: 2\n",
      "l1[2]: asd\n"
     ]
    }
   ],
   "source": [
    "for i in range(len(l1)):\n",
    "    print('i:',i)\n",
    "    print(f'l1[{i}]:',l1[i])"
   ]
  },
  {
   "cell_type": "code",
   "execution_count": 21,
   "id": "b7f14d6c",
   "metadata": {},
   "outputs": [
    {
     "name": "stdout",
     "output_type": "stream",
     "text": [
      "[1, 2, 3, 4, 5]\n"
     ]
    }
   ],
   "source": [
    "l2 = [5,4,3,2,1]\n",
    "l2 = sorted(l2)\n",
    "print(l2)"
   ]
  },
  {
   "cell_type": "code",
   "execution_count": 22,
   "id": "87a82432",
   "metadata": {},
   "outputs": [
    {
     "name": "stdout",
     "output_type": "stream",
     "text": [
      "[1, 2, 3, 4, 5, 'asd']\n"
     ]
    }
   ],
   "source": [
    "l2.append('asd')\n",
    "print(l2)"
   ]
  },
  {
   "cell_type": "code",
   "execution_count": 23,
   "id": "86a9f6ee",
   "metadata": {},
   "outputs": [
    {
     "name": "stdout",
     "output_type": "stream",
     "text": [
      "[2, 3, 4, 5, 'asd']\n"
     ]
    }
   ],
   "source": [
    "l2.pop(0)\n",
    "print(l2)"
   ]
  },
  {
   "cell_type": "markdown",
   "id": "b759d546",
   "metadata": {},
   "source": [
    "字典：由大括号包裹，里面储存的是 键:值 的一种储存结构。字典是可变的"
   ]
  },
  {
   "cell_type": "code",
   "execution_count": 25,
   "id": "ee7bed8d",
   "metadata": {},
   "outputs": [],
   "source": [
    "dic = {'name':'Dong Shuwen', 'age':22, 123:'abc'}"
   ]
  },
  {
   "cell_type": "markdown",
   "id": "00616648",
   "metadata": {},
   "source": [
    "取值"
   ]
  },
  {
   "cell_type": "code",
   "execution_count": 26,
   "id": "981b0456",
   "metadata": {},
   "outputs": [
    {
     "name": "stdout",
     "output_type": "stream",
     "text": [
      "Dong Shuwen\n",
      "abc\n"
     ]
    }
   ],
   "source": [
    "print(dic['name'])\n",
    "print(dic[123])"
   ]
  },
  {
   "cell_type": "markdown",
   "id": "39917a5e",
   "metadata": {},
   "source": [
    "改变指定键对应的值"
   ]
  },
  {
   "cell_type": "code",
   "execution_count": 27,
   "id": "2cee172c",
   "metadata": {},
   "outputs": [
    {
     "name": "stdout",
     "output_type": "stream",
     "text": [
      "{'name': 'Tomas', 'age': 22, 123: 'abc'}\n"
     ]
    }
   ],
   "source": [
    "dic['name'] = 'Tomas'\n",
    "print(dic)"
   ]
  },
  {
   "cell_type": "markdown",
   "id": "4ec84414",
   "metadata": {},
   "source": [
    "添加键:值"
   ]
  },
  {
   "cell_type": "code",
   "execution_count": 28,
   "id": "4869f978",
   "metadata": {},
   "outputs": [
    {
     "name": "stdout",
     "output_type": "stream",
     "text": [
      "{'name': 'Tomas', 'age': 22, 123: 'abc', 'new': 'test'}\n"
     ]
    }
   ],
   "source": [
    "dic['new'] = 'test'\n",
    "print(dic)"
   ]
  },
  {
   "cell_type": "markdown",
   "id": "9f96b3ae",
   "metadata": {},
   "source": [
    "比较是否相同"
   ]
  },
  {
   "cell_type": "code",
   "execution_count": 29,
   "id": "a152d31c",
   "metadata": {},
   "outputs": [
    {
     "name": "stdout",
     "output_type": "stream",
     "text": [
      "True\n"
     ]
    }
   ],
   "source": [
    "dic_new = {'name': 'Tomas', 'age': 22, 123: 'abc', 'new': 'test'}\n",
    "print(dic==dic_new)"
   ]
  },
  {
   "cell_type": "markdown",
   "id": "0c458a10",
   "metadata": {},
   "source": [
    "字典是无序的，因此不能切片"
   ]
  },
  {
   "cell_type": "code",
   "execution_count": 30,
   "id": "25d851ff",
   "metadata": {},
   "outputs": [
    {
     "ename": "TypeError",
     "evalue": "unhashable type: 'slice'",
     "output_type": "error",
     "traceback": [
      "\u001b[1;31m---------------------------------------------------------------------------\u001b[0m",
      "\u001b[1;31mTypeError\u001b[0m                                 Traceback (most recent call last)",
      "\u001b[1;32m~\\AppData\\Local\\Temp/ipykernel_23800/1831384709.py\u001b[0m in \u001b[0;36m<module>\u001b[1;34m\u001b[0m\n\u001b[1;32m----> 1\u001b[1;33m \u001b[0mprint\u001b[0m\u001b[1;33m(\u001b[0m\u001b[0mdic\u001b[0m\u001b[1;33m[\u001b[0m\u001b[1;36m1\u001b[0m\u001b[1;33m:\u001b[0m\u001b[1;36m2\u001b[0m\u001b[1;33m]\u001b[0m\u001b[1;33m)\u001b[0m\u001b[1;33m\u001b[0m\u001b[1;33m\u001b[0m\u001b[0m\n\u001b[0m",
      "\u001b[1;31mTypeError\u001b[0m: unhashable type: 'slice'"
     ]
    }
   ],
   "source": [
    "print(dic[1:2])"
   ]
  },
  {
   "cell_type": "markdown",
   "id": "335f5b1d",
   "metadata": {},
   "source": [
    "输出键、值"
   ]
  },
  {
   "cell_type": "code",
   "execution_count": 31,
   "id": "625aea44",
   "metadata": {},
   "outputs": [
    {
     "name": "stdout",
     "output_type": "stream",
     "text": [
      "dict_keys(['name', 'age', 123])\n",
      "dict_values(['Dong Shuwen', 22, 'abc'])\n",
      "['name', 'age', 123]\n",
      "name : Dong Shuwen\n",
      "age : 22\n",
      "123 : abc\n"
     ]
    }
   ],
   "source": [
    "dic = {'name':'Dong Shuwen', 'age':22, 123:'abc'}\n",
    "print(dic.keys())\n",
    "print(dic.values())\n",
    "print(list(dic.keys()))\n",
    "\n",
    "for k in dic.keys():\n",
    "    print(k,':',dic[k])"
   ]
  },
  {
   "cell_type": "markdown",
   "id": "6fceecb6",
   "metadata": {},
   "source": [
    "查看是否存在键"
   ]
  },
  {
   "cell_type": "code",
   "execution_count": 32,
   "id": "eba7d75f",
   "metadata": {},
   "outputs": [
    {
     "name": "stdout",
     "output_type": "stream",
     "text": [
      "True\n",
      "False\n",
      "True\n"
     ]
    }
   ],
   "source": [
    "print('name' in dic)\n",
    "print('Tomas' in dic)\n",
    "\n",
    "print('name' in dic.keys())"
   ]
  },
  {
   "cell_type": "markdown",
   "id": "2728f8b8",
   "metadata": {},
   "source": [
    "另一种初始化"
   ]
  },
  {
   "cell_type": "code",
   "execution_count": 33,
   "id": "fc89d9ab",
   "metadata": {},
   "outputs": [
    {
     "name": "stdout",
     "output_type": "stream",
     "text": [
      "{'name': 'Dong Shuwen', 'age': 22}\n"
     ]
    }
   ],
   "source": [
    "dic = dict(name='Dong Shuwen', age=22)\n",
    "print(dic)"
   ]
  },
  {
   "cell_type": "markdown",
   "id": "90e05e00",
   "metadata": {},
   "source": [
    "长度"
   ]
  },
  {
   "cell_type": "code",
   "execution_count": 34,
   "id": "532ea498",
   "metadata": {},
   "outputs": [
    {
     "name": "stdout",
     "output_type": "stream",
     "text": [
      "2\n"
     ]
    }
   ],
   "source": [
    "print(len(dic))"
   ]
  },
  {
   "cell_type": "markdown",
   "id": "b8f55413",
   "metadata": {},
   "source": [
    "排序（字典无序，这里默认对键排序）"
   ]
  },
  {
   "cell_type": "code",
   "execution_count": 35,
   "id": "5ff73e97",
   "metadata": {},
   "outputs": [
    {
     "name": "stdout",
     "output_type": "stream",
     "text": [
      "['age', 'name']\n"
     ]
    }
   ],
   "source": [
    "dic = sorted(dic)\n",
    "print(dic)"
   ]
  },
  {
   "cell_type": "markdown",
   "id": "485a24de",
   "metadata": {},
   "source": [
    "其他神奇方法（一般不推荐使用）"
   ]
  },
  {
   "cell_type": "code",
   "execution_count": 36,
   "id": "5063cef3",
   "metadata": {},
   "outputs": [
    {
     "name": "stdout",
     "output_type": "stream",
     "text": [
      "{'one': None, 'two': None, 'three': None}\n",
      "{'one': 'nums', 'two': 'nums', 'three': 'nums'}\n"
     ]
    }
   ],
   "source": [
    "numbers = {'one': 1, 'two': 2, 'three': 3}\n",
    "numbers_fromkeys = numbers.fromkeys(numbers)\n",
    "print(numbers_fromkeys)\n",
    "numbers_fromkeys = numbers.fromkeys(numbers, \"nums\")\n",
    "print(numbers_fromkeys)"
   ]
  },
  {
   "cell_type": "code",
   "execution_count": 37,
   "id": "14c0b251",
   "metadata": {},
   "outputs": [
    {
     "name": "stdout",
     "output_type": "stream",
     "text": [
      "3\n",
      "None\n",
      "4\n"
     ]
    }
   ],
   "source": [
    "numbers = {'one': 1, 'two': 2, 'three': 3}\n",
    "print(numbers.get(\"three\"))\n",
    "print(numbers.get(\"four\"))\n",
    "print(numbers.get(\"four\",4))"
   ]
  },
  {
   "cell_type": "code",
   "execution_count": 38,
   "id": "c7133733",
   "metadata": {},
   "outputs": [
    {
     "name": "stdout",
     "output_type": "stream",
     "text": [
      "{'one': 1, 'two': 2, 'three': 3}\n",
      "{'one': 1, 'two': 2, 'three': 3, 'four': 4}\n"
     ]
    }
   ],
   "source": [
    "print(numbers)\n",
    "numbers.update({\"four\":4})\n",
    "print(numbers)"
   ]
  },
  {
   "cell_type": "code",
   "execution_count": 39,
   "id": "17f31fcf",
   "metadata": {},
   "outputs": [
    {
     "name": "stdout",
     "output_type": "stream",
     "text": [
      "{'one': 1, 'two': 2, 'three': 3}\n"
     ]
    }
   ],
   "source": [
    "numbers.pop(\"four\")\n",
    "print(numbers)"
   ]
  },
  {
   "cell_type": "code",
   "execution_count": 40,
   "id": "1b2cb396",
   "metadata": {},
   "outputs": [
    {
     "name": "stdout",
     "output_type": "stream",
     "text": [
      "dict_items([('one', 1), ('two', 2), ('three', 3)])\n"
     ]
    }
   ],
   "source": [
    "print(numbers.items())"
   ]
  },
  {
   "cell_type": "markdown",
   "id": "8b457360",
   "metadata": {},
   "source": [
    "元组：一组不可变的，有序的数据类型（目前大家完全可以用list代替，大部分没有区别）"
   ]
  },
  {
   "cell_type": "code",
   "execution_count": 41,
   "id": "205b1137",
   "metadata": {},
   "outputs": [],
   "source": [
    "c = (1, 1, 2, 3, 5, 8, 13)"
   ]
  },
  {
   "cell_type": "code",
   "execution_count": 42,
   "id": "5cb9cf61",
   "metadata": {},
   "outputs": [
    {
     "ename": "TypeError",
     "evalue": "'tuple' object does not support item assignment",
     "output_type": "error",
     "traceback": [
      "\u001b[1;31m---------------------------------------------------------------------------\u001b[0m",
      "\u001b[1;31mTypeError\u001b[0m                                 Traceback (most recent call last)",
      "\u001b[1;32m~\\AppData\\Local\\Temp/ipykernel_23800/3719583243.py\u001b[0m in \u001b[0;36m<module>\u001b[1;34m\u001b[0m\n\u001b[1;32m----> 1\u001b[1;33m \u001b[0mc\u001b[0m\u001b[1;33m[\u001b[0m\u001b[1;36m4\u001b[0m\u001b[1;33m]\u001b[0m \u001b[1;33m=\u001b[0m \u001b[1;36m7\u001b[0m\u001b[1;33m\u001b[0m\u001b[1;33m\u001b[0m\u001b[0m\n\u001b[0m",
      "\u001b[1;31mTypeError\u001b[0m: 'tuple' object does not support item assignment"
     ]
    }
   ],
   "source": [
    "c[4] = 7"
   ]
  },
  {
   "cell_type": "code",
   "execution_count": 43,
   "id": "7b27b978",
   "metadata": {},
   "outputs": [
    {
     "name": "stdout",
     "output_type": "stream",
     "text": [
      "(1, 2, [3, 4, 5, 'asd'])\n"
     ]
    }
   ],
   "source": [
    "c = (1,2,[3,4,5])\n",
    "c[2].append('asd')\n",
    "print(c)"
   ]
  },
  {
   "cell_type": "markdown",
   "id": "599f5570",
   "metadata": {},
   "source": [
    "另几种初始化"
   ]
  },
  {
   "cell_type": "code",
   "execution_count": 44,
   "id": "cabad9b0",
   "metadata": {},
   "outputs": [
    {
     "name": "stdout",
     "output_type": "stream",
     "text": [
      "(1, 2, 3, 4, 5)\n",
      "()\n",
      "()\n",
      "('t', 'h', 'i', 's', ' ', 'i', 's', ' ', 'a', ' ', 't', 'u', 'p', 'l', 'e')\n"
     ]
    }
   ],
   "source": [
    "c = 1,2,3,4,5\n",
    "print(c)\n",
    "c = ()\n",
    "print(c)\n",
    "c = tuple()\n",
    "print(c)\n",
    "c = tuple('this is a tuple')\n",
    "print(c)"
   ]
  },
  {
   "cell_type": "markdown",
   "id": "541a6c4d",
   "metadata": {},
   "source": [
    "遍历"
   ]
  },
  {
   "cell_type": "code",
   "execution_count": 45,
   "id": "64c9d5d0",
   "metadata": {},
   "outputs": [
    {
     "name": "stdout",
     "output_type": "stream",
     "text": [
      "1\n",
      "1\n",
      "2\n",
      "3\n",
      "5\n",
      "8\n",
      "13\n"
     ]
    }
   ],
   "source": [
    "c = (1, 1, 2, 3, 5, 8, 13)\n",
    "for i in range(len(c)):\n",
    "    print(c[i])"
   ]
  },
  {
   "cell_type": "markdown",
   "id": "ff8bd054",
   "metadata": {},
   "source": [
    "+, *, in"
   ]
  },
  {
   "cell_type": "code",
   "execution_count": 46,
   "id": "5e7e4492",
   "metadata": {},
   "outputs": [
    {
     "name": "stdout",
     "output_type": "stream",
     "text": [
      "(1, 2, 3, 4, 5, 6)\n",
      "(1, 2, 3, 1, 2, 3, 1, 2, 3)\n",
      "True\n"
     ]
    }
   ],
   "source": [
    "c = (1,2,3)\n",
    "print(c + (4,5,6))\n",
    "print(c*3)\n",
    "print(3 in c)"
   ]
  },
  {
   "cell_type": "markdown",
   "id": "ebd482cb",
   "metadata": {},
   "source": [
    "比较操作"
   ]
  },
  {
   "cell_type": "code",
   "execution_count": 48,
   "id": "15eba0ff",
   "metadata": {},
   "outputs": [
    {
     "name": "stdout",
     "output_type": "stream",
     "text": [
      "True\n",
      "True\n"
     ]
    }
   ],
   "source": [
    "print(c==(1,2,3))\n",
    "print(c>(0,1,2,4))"
   ]
  },
  {
   "cell_type": "markdown",
   "id": "80f2b477",
   "metadata": {},
   "source": [
    "切片"
   ]
  },
  {
   "cell_type": "code",
   "execution_count": 49,
   "id": "3fc8f2da",
   "metadata": {},
   "outputs": [
    {
     "name": "stdout",
     "output_type": "stream",
     "text": [
      "(2, 3)\n"
     ]
    }
   ],
   "source": [
    "c = (1,2,3)\n",
    "print(c[1:3])"
   ]
  },
  {
   "cell_type": "markdown",
   "id": "51ec4a65",
   "metadata": {},
   "source": [
    "长度"
   ]
  },
  {
   "cell_type": "code",
   "execution_count": 50,
   "id": "b359451b",
   "metadata": {},
   "outputs": [
    {
     "name": "stdout",
     "output_type": "stream",
     "text": [
      "3\n"
     ]
    }
   ],
   "source": [
    "c = (1,2,3)\n",
    "print(len(c))"
   ]
  },
  {
   "cell_type": "markdown",
   "id": "92dd592c",
   "metadata": {},
   "source": [
    "求和"
   ]
  },
  {
   "cell_type": "code",
   "execution_count": 51,
   "id": "3d6e51f7",
   "metadata": {},
   "outputs": [
    {
     "name": "stdout",
     "output_type": "stream",
     "text": [
      "6\n"
     ]
    }
   ],
   "source": [
    "c = (1,2,3)\n",
    "print(sum(c))"
   ]
  },
  {
   "cell_type": "markdown",
   "id": "3992c483",
   "metadata": {},
   "source": [
    "排序(注意返回的不再是一个元组了)"
   ]
  },
  {
   "cell_type": "code",
   "execution_count": 52,
   "id": "fd09f6ae",
   "metadata": {},
   "outputs": [
    {
     "name": "stdout",
     "output_type": "stream",
     "text": [
      "[1, 2, 3]\n",
      "<class 'list'>\n"
     ]
    }
   ],
   "source": [
    "c = (3,2,1)\n",
    "c = sorted(c)\n",
    "print(c)\n",
    "print(type(c))"
   ]
  },
  {
   "cell_type": "markdown",
   "id": "9178b142",
   "metadata": {},
   "source": [
    "其他神奇方法与用法"
   ]
  },
  {
   "cell_type": "code",
   "execution_count": 53,
   "id": "591fa760",
   "metadata": {},
   "outputs": [
    {
     "name": "stdout",
     "output_type": "stream",
     "text": [
      "{'white_shark': 520, 'beluga': 1571, 'greenland_shark': 1400}\n"
     ]
    }
   ],
   "source": [
    "fish_weight = ((\"white_shark\", 520), (\"beluga\", 1571), (\"greenland_shark\",1400))\n",
    "fish_weight_dict = dict(fish_weight)\n",
    "print(fish_weight_dict)"
   ]
  },
  {
   "cell_type": "code",
   "execution_count": 54,
   "id": "db704579",
   "metadata": {},
   "outputs": [
    {
     "name": "stdout",
     "output_type": "stream",
     "text": [
      "2\n",
      "3\n"
     ]
    }
   ],
   "source": [
    "channels = (\"ngc\", \"discovery\", \"animal_planet\", \"history\", \"ngc\")\n",
    "print(channels.count(\"ngc\"))\n",
    "print(channels.index(\"history\"))"
   ]
  },
  {
   "cell_type": "code",
   "execution_count": 55,
   "id": "3e598c08",
   "metadata": {},
   "outputs": [
    {
     "name": "stdout",
     "output_type": "stream",
     "text": [
      "12345   54321   hello!\n",
      "3   4\n"
     ]
    }
   ],
   "source": [
    "t = 12345, 54321, 'hello!'\n",
    "x, y, z = t\n",
    "print(x,' ',y,' ',z)\n",
    "# 这就是一次性赋予多个变量初始值的原理\n",
    "a,b = 3,4\n",
    "print(a,' ',b)"
   ]
  },
  {
   "cell_type": "code",
   "execution_count": 56,
   "id": "cd138133",
   "metadata": {},
   "outputs": [
    {
     "name": "stdout",
     "output_type": "stream",
     "text": [
      "[(1, 4), (2, 5), (3, 6)]\n"
     ]
    }
   ],
   "source": [
    "l1 = [1,2,3]\n",
    "l2 = [4,5,6,7]\n",
    "z = zip(l1,l2)\n",
    "print(list(z))"
   ]
  },
  {
   "cell_type": "markdown",
   "id": "f089ed07",
   "metadata": {},
   "source": [
    "集合：无序的，可变的储存结构"
   ]
  },
  {
   "cell_type": "code",
   "execution_count": 57,
   "id": "7ececd30",
   "metadata": {},
   "outputs": [
    {
     "name": "stdout",
     "output_type": "stream",
     "text": [
      "{'orange', 'apple', 'pear'}\n"
     ]
    }
   ],
   "source": [
    "basket = {'apple', 'orange', 'apple', 'pear'}\n",
    "print(basket)"
   ]
  },
  {
   "cell_type": "code",
   "execution_count": 58,
   "id": "3923f0c3",
   "metadata": {},
   "outputs": [
    {
     "ename": "TypeError",
     "evalue": "'set' object is not subscriptable",
     "output_type": "error",
     "traceback": [
      "\u001b[1;31m---------------------------------------------------------------------------\u001b[0m",
      "\u001b[1;31mTypeError\u001b[0m                                 Traceback (most recent call last)",
      "\u001b[1;32m~\\AppData\\Local\\Temp/ipykernel_23800/3995927209.py\u001b[0m in \u001b[0;36m<module>\u001b[1;34m\u001b[0m\n\u001b[1;32m----> 1\u001b[1;33m \u001b[0mprint\u001b[0m\u001b[1;33m(\u001b[0m\u001b[0mbasket\u001b[0m\u001b[1;33m[\u001b[0m\u001b[1;36m0\u001b[0m\u001b[1;33m]\u001b[0m\u001b[1;33m)\u001b[0m\u001b[1;33m\u001b[0m\u001b[1;33m\u001b[0m\u001b[0m\n\u001b[0m",
      "\u001b[1;31mTypeError\u001b[0m: 'set' object is not subscriptable"
     ]
    }
   ],
   "source": [
    "print(basket[0])"
   ]
  },
  {
   "cell_type": "markdown",
   "id": "e88ac032",
   "metadata": {},
   "source": [
    "其他初始化"
   ]
  },
  {
   "cell_type": "code",
   "execution_count": 60,
   "id": "94437d15",
   "metadata": {},
   "outputs": [
    {
     "name": "stdout",
     "output_type": "stream",
     "text": [
      "set()\n",
      "{1, 2, 3, 4, 5}\n"
     ]
    }
   ],
   "source": [
    "s = set()\n",
    "print(s)\n",
    "s = set([1,2,3,4,5,5])\n",
    "print(s)"
   ]
  },
  {
   "cell_type": "markdown",
   "id": "916a2158",
   "metadata": {},
   "source": [
    "添加、删除元素"
   ]
  },
  {
   "cell_type": "code",
   "execution_count": 61,
   "id": "2543ea33",
   "metadata": {},
   "outputs": [
    {
     "name": "stdout",
     "output_type": "stream",
     "text": [
      "{1, 2, 3, 4}\n",
      "{1, 2, 3, 4, 5, 6, 7}\n",
      "{1, 2, 3, 4, 6, 7}\n",
      "set()\n"
     ]
    }
   ],
   "source": [
    "s = {1,2,3}\n",
    "s.add(4)\n",
    "print(s)\n",
    "s.update({5,6,7})\n",
    "print(s)\n",
    "s.discard(5)\n",
    "print(s)\n",
    "s.clear()\n",
    "print(s)"
   ]
  },
  {
   "cell_type": "markdown",
   "id": "4235f01c",
   "metadata": {},
   "source": [
    "长度"
   ]
  },
  {
   "cell_type": "code",
   "execution_count": 62,
   "id": "38987d85",
   "metadata": {},
   "outputs": [
    {
     "name": "stdout",
     "output_type": "stream",
     "text": [
      "0\n"
     ]
    }
   ],
   "source": [
    "print(len(s))"
   ]
  },
  {
   "cell_type": "markdown",
   "id": "64d0b531",
   "metadata": {},
   "source": [
    "in"
   ]
  },
  {
   "cell_type": "code",
   "execution_count": 63,
   "id": "0e02a7d4",
   "metadata": {},
   "outputs": [
    {
     "name": "stdout",
     "output_type": "stream",
     "text": [
      "True\n"
     ]
    }
   ],
   "source": [
    "s = {1,2,3,4,5}\n",
    "print(5 in s)"
   ]
  },
  {
   "cell_type": "markdown",
   "id": "a7b8f195",
   "metadata": {},
   "source": [
    "排序(也会变成list)"
   ]
  },
  {
   "cell_type": "code",
   "execution_count": 66,
   "id": "d1130dbd",
   "metadata": {},
   "outputs": [
    {
     "name": "stdout",
     "output_type": "stream",
     "text": [
      "[1, 2, 3, 4, 5]\n"
     ]
    }
   ],
   "source": [
    "s = {5,4,3,2,1}\n",
    "print(sorted(s))"
   ]
  },
  {
   "cell_type": "markdown",
   "id": "47d07306",
   "metadata": {},
   "source": [
    "集合操作"
   ]
  },
  {
   "cell_type": "code",
   "execution_count": 69,
   "id": "8ee66211",
   "metadata": {},
   "outputs": [
    {
     "name": "stdout",
     "output_type": "stream",
     "text": [
      "{'a', 'c', 'd', 'b', 'r'}\n",
      "{'l', 'a', 'c', 'z', 'm'}\n",
      "{'d', 'b', 'r'}\n",
      "{'d', 'b', 'r'}\n",
      "{'l', 'a', 'c', 'd', 'b', 'z', 'm', 'r'}\n",
      "{'l', 'a', 'c', 'd', 'b', 'z', 'm', 'r'}\n",
      "{'c', 'a'}\n",
      "{'c', 'a'}\n",
      "{'m', 'l', 'r', 'd', 'b', 'z'}\n",
      "{'m', 'l', 'r', 'd', 'b', 'z'}\n"
     ]
    }
   ],
   "source": [
    "a = set('abracadabra')\n",
    "print(a)\n",
    "b = set('alacazam')\n",
    "print(b)\n",
    "\n",
    "print(a - b) \n",
    "print(a.difference(b))\n",
    "print(a | b)\n",
    "print(a.union(b))\n",
    "print(a & b)\n",
    "print(a.intersection(b))\n",
    "print(a ^ b)\n",
    "print(a.symmetric_difference(b))"
   ]
  },
  {
   "cell_type": "markdown",
   "id": "71542c5a",
   "metadata": {},
   "source": [
    "不可变集合"
   ]
  },
  {
   "cell_type": "code",
   "execution_count": 70,
   "id": "54fa2cde",
   "metadata": {},
   "outputs": [
    {
     "name": "stdout",
     "output_type": "stream",
     "text": [
      "frozenset({'o', 'd', 'g'})\n"
     ]
    }
   ],
   "source": [
    "fs = frozenset([\"g\", \"o\", \"o\", \"d\"])\n",
    "print(fs)"
   ]
  },
  {
   "cell_type": "code",
   "execution_count": 71,
   "id": "4595ef7b",
   "metadata": {},
   "outputs": [
    {
     "ename": "AttributeError",
     "evalue": "'frozenset' object has no attribute 'add'",
     "output_type": "error",
     "traceback": [
      "\u001b[1;31m---------------------------------------------------------------------------\u001b[0m",
      "\u001b[1;31mAttributeError\u001b[0m                            Traceback (most recent call last)",
      "\u001b[1;32m~\\AppData\\Local\\Temp/ipykernel_23800/3571643150.py\u001b[0m in \u001b[0;36m<module>\u001b[1;34m\u001b[0m\n\u001b[1;32m----> 1\u001b[1;33m \u001b[0mfs\u001b[0m\u001b[1;33m.\u001b[0m\u001b[0madd\u001b[0m\u001b[1;33m(\u001b[0m\u001b[1;36m1\u001b[0m\u001b[1;33m)\u001b[0m\u001b[1;33m\u001b[0m\u001b[1;33m\u001b[0m\u001b[0m\n\u001b[0m",
      "\u001b[1;31mAttributeError\u001b[0m: 'frozenset' object has no attribute 'add'"
     ]
    }
   ],
   "source": [
    "fs.add(1)"
   ]
  },
  {
   "cell_type": "markdown",
   "id": "af6acfd7",
   "metadata": {},
   "source": [
    "力扣题单"
   ]
  },
  {
   "cell_type": "markdown",
   "id": "1bd15031",
   "metadata": {},
   "source": [
    "https://leetcode.cn/problems/guess-numbers/\n",
    "https://leetcode.cn/problems/richest-customer-wealth/\n",
    "https://leetcode.cn/problems/count-asterisks/"
   ]
  }
 ],
 "metadata": {
  "kernelspec": {
   "display_name": "Python [conda env:pytorch_d]",
   "language": "python",
   "name": "pytorch_d"
  },
  "language_info": {
   "codemirror_mode": {
    "name": "ipython",
    "version": 3
   },
   "file_extension": ".py",
   "mimetype": "text/x-python",
   "name": "python",
   "nbconvert_exporter": "python",
   "pygments_lexer": "ipython3",
   "version": "3.8.6"
  }
 },
 "nbformat": 4,
 "nbformat_minor": 5
}
