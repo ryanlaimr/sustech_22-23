{
 "cells": [
  {
   "cell_type": "code",
   "execution_count": 1,
   "id": "4f29d252",
   "metadata": {},
   "outputs": [],
   "source": [
    "import numpy as np"
   ]
  },
  {
   "cell_type": "markdown",
   "id": "3ea862cd",
   "metadata": {},
   "source": [
    "numpy数组的复制，copy()与view()"
   ]
  },
  {
   "cell_type": "code",
   "execution_count": 2,
   "id": "73219b24",
   "metadata": {},
   "outputs": [
    {
     "name": "stdout",
     "output_type": "stream",
     "text": [
      "[1 2 3]\n",
      "[2 2 3]\n"
     ]
    }
   ],
   "source": [
    "a = np.array([1,2,3])\n",
    "b = a.copy()\n",
    "b[0] = 2\n",
    "print(a)\n",
    "print(b)"
   ]
  },
  {
   "cell_type": "code",
   "execution_count": 3,
   "id": "48f38f96",
   "metadata": {},
   "outputs": [
    {
     "name": "stdout",
     "output_type": "stream",
     "text": [
      "[2 2 3]\n",
      "[2 2 3]\n"
     ]
    }
   ],
   "source": [
    "a = np.array([1,2,3])\n",
    "b = a.view()\n",
    "b[0] = 2\n",
    "print(a)\n",
    "print(b)"
   ]
  },
  {
   "cell_type": "code",
   "execution_count": 5,
   "id": "39b82ce1",
   "metadata": {
    "scrolled": true
   },
   "outputs": [
    {
     "name": "stdout",
     "output_type": "stream",
     "text": [
      "None\n",
      "[1 2 3 4 5]\n",
      "True\n"
     ]
    }
   ],
   "source": [
    "arr = np.array([1,2,3,4,5])\n",
    "x = arr.copy()\n",
    "y = arr.view()\n",
    "print(x.base)\n",
    "print(y.base)\n",
    "print(np.may_share_memory(arr, y))"
   ]
  },
  {
   "cell_type": "markdown",
   "id": "bd8829af",
   "metadata": {},
   "source": [
    "等号赋值"
   ]
  },
  {
   "cell_type": "code",
   "execution_count": 6,
   "id": "584ae141",
   "metadata": {},
   "outputs": [
    {
     "name": "stdout",
     "output_type": "stream",
     "text": [
      "True\n"
     ]
    }
   ],
   "source": [
    "A = np.array([[0,1,2],[3,4,5],[6,7,8]])\n",
    "B = A\n",
    "print(np.may_share_memory(A, B))"
   ]
  },
  {
   "cell_type": "markdown",
   "id": "6c7f2733",
   "metadata": {},
   "source": [
    "np其他用法"
   ]
  },
  {
   "cell_type": "code",
   "execution_count": 10,
   "id": "005a7bb7",
   "metadata": {},
   "outputs": [
    {
     "name": "stdout",
     "output_type": "stream",
     "text": [
      "(array([3, 5, 6], dtype=int64),)\n"
     ]
    }
   ],
   "source": [
    "arr = np.array([1,2,3,4,5,4,4])\n",
    "x = np.where(arr==4)\n",
    "print(x)"
   ]
  },
  {
   "cell_type": "code",
   "execution_count": 11,
   "id": "5d30d850",
   "metadata": {},
   "outputs": [
    {
     "name": "stdout",
     "output_type": "stream",
     "text": [
      "True\n"
     ]
    }
   ],
   "source": [
    "print(np.any([1,0,-1]))"
   ]
  },
  {
   "cell_type": "code",
   "execution_count": 13,
   "id": "96a5d80e",
   "metadata": {},
   "outputs": [
    {
     "name": "stdout",
     "output_type": "stream",
     "text": [
      "False\n"
     ]
    }
   ],
   "source": [
    "print(np.all([1,0,1]))"
   ]
  },
  {
   "cell_type": "code",
   "execution_count": 15,
   "id": "18f1a91b",
   "metadata": {},
   "outputs": [
    {
     "name": "stdout",
     "output_type": "stream",
     "text": [
      "[[1. 2. 3.]\n",
      " [4. 5. 6.]\n",
      " [7. 8. 9.]]\n"
     ]
    }
   ],
   "source": [
    "a = np.genfromtxt('./csv_file.csv', delimiter=',')\n",
    "print(a)"
   ]
  },
  {
   "cell_type": "code",
   "execution_count": 16,
   "id": "1ed78c1c",
   "metadata": {},
   "outputs": [],
   "source": [
    "data = np.empty((5, 5))\n",
    "np.savetxt('test.txt', data)"
   ]
  },
  {
   "cell_type": "code",
   "execution_count": 23,
   "id": "9670a637",
   "metadata": {},
   "outputs": [
    {
     "name": "stdout",
     "output_type": "stream",
     "text": [
      "34\n",
      "0.6993889077147473\n",
      "[[41 43 53 90 15]\n",
      " [92 17 98  9 88]\n",
      " [96  2 71 78 55]]\n",
      "[[0.5206105  0.79126228]\n",
      " [0.46713498 0.19071056]]\n",
      "7\n",
      "[[9 7]\n",
      " [5 5]]\n"
     ]
    }
   ],
   "source": [
    "x = np.random.randint(100)\n",
    "print(x)\n",
    "x = np.random.rand()\n",
    "print(x)\n",
    "x = np.random.randint(100, size=(3,5))\n",
    "print(x)\n",
    "x = np.random.rand(2,2)\n",
    "print(x)\n",
    "x = np.random.choice([3,5,7,9])\n",
    "print(x)\n",
    "x = np.random.choice([3,5,7,9], size=(2,2))\n",
    "print(x)"
   ]
  },
  {
   "cell_type": "code",
   "execution_count": 30,
   "id": "c9c07356",
   "metadata": {},
   "outputs": [
    {
     "name": "stdout",
     "output_type": "stream",
     "text": [
      "[1 5 4 2 3]\n",
      "[1 2 5 3 4]\n"
     ]
    }
   ],
   "source": [
    "arr = np.array([1,2,3,4,5])\n",
    "np.random.shuffle(arr)\n",
    "print(arr)\n",
    "print(np.random.permutation(arr)) # this will not change original array"
   ]
  },
  {
   "cell_type": "code",
   "execution_count": 33,
   "id": "07021d70",
   "metadata": {},
   "outputs": [
    {
     "name": "stdout",
     "output_type": "stream",
     "text": [
      "[[11.80190722 10.69008716  9.5391237 ]\n",
      " [ 9.27758666  9.59740409  6.39752869]]\n"
     ]
    }
   ],
   "source": [
    "x = np.random.normal(loc=10,scale=2,size=(2,3))\n",
    "print(x)"
   ]
  },
  {
   "cell_type": "code",
   "execution_count": 35,
   "id": "a17b2e4e",
   "metadata": {},
   "outputs": [
    {
     "name": "stdout",
     "output_type": "stream",
     "text": [
      "[[1.7085116  1.131955   1.30387699]\n",
      " [1.81558386 1.37594552 1.39864207]]\n"
     ]
    }
   ],
   "source": [
    "x = np.random.uniform(low=1,high=2,size=(2,3))\n",
    "print(x)"
   ]
  },
  {
   "cell_type": "code",
   "execution_count": 37,
   "id": "4ab7f6ca",
   "metadata": {},
   "outputs": [
    {
     "name": "stdout",
     "output_type": "stream",
     "text": [
      "[1 2 3 4 5]\n",
      "[1 2 3 4 5 6]\n"
     ]
    }
   ],
   "source": [
    "arr = np.array([1, 1, 2, 3, 4, 5, 5])\n",
    "x = np.unique(arr)\n",
    "print(x)\n",
    "arr1 = np.array([1,2,3,4])\n",
    "arr2 = np.array([3,4,5,6])\n",
    "new_arr = np.union1d(arr1, arr2)\n",
    "print(new_arr)"
   ]
  },
  {
   "cell_type": "code",
   "execution_count": 40,
   "id": "128b116e",
   "metadata": {},
   "outputs": [
    {
     "name": "stdout",
     "output_type": "stream",
     "text": [
      "[3 4]\n",
      "[1 2]\n",
      "[1 2 5 6]\n",
      "[False False  True  True]\n"
     ]
    }
   ],
   "source": [
    "arr1 = np.array([1,2,3,4])\n",
    "arr2 = np.array([3,4,5,6]) \n",
    "new_arr = np.intersect1d(arr1, arr2)\n",
    "print(new_arr)\n",
    "new_arr = np.setdiff1d(arr1, arr2)\n",
    "print(new_arr)\n",
    "new_arr = np.setxor1d(arr1, arr2)\n",
    "print(new_arr)\n",
    "print(np.in1d(arr1, arr2))\n"
   ]
  },
  {
   "cell_type": "markdown",
   "id": "24b309bd",
   "metadata": {},
   "source": [
    "Scipy一个基于numpy的科学计算包"
   ]
  },
  {
   "cell_type": "code",
   "execution_count": 41,
   "id": "021d256b",
   "metadata": {},
   "outputs": [
    {
     "name": "stdout",
     "output_type": "stream",
     "text": [
      "-22.0\n",
      "[[-0.22727273  0.13636364]\n",
      " [ 0.18181818  0.09090909]]\n",
      "[[1. 0.]\n",
      " [0. 1.]]\n"
     ]
    }
   ],
   "source": [
    "import scipy.linalg\n",
    "import numpy as np\n",
    "\n",
    "a = np.array([[-2, 3], [4, 5]])\n",
    "print(scipy.linalg.det(a))  # 行列式\n",
    "\n",
    "b = scipy.linalg.inv(a)\n",
    "print(b)\n",
    "\n",
    "print(np.dot(a, b))"
   ]
  },
  {
   "attachments": {
    "image.png": {
     "image/png": "[encoded data removed]"
    }
   },
   "cell_type": "markdown",
   "id": "5a719b18",
   "metadata": {},
   "source": [
    "解方程\n",
    "![image.png](attachment:image.png)"
   ]
  },
  {
   "cell_type": "code",
   "execution_count": 42,
   "id": "eead71e6",
   "metadata": {},
   "outputs": [
    {
     "name": "stdout",
     "output_type": "stream",
     "text": [
      "[-8.91304348 10.2173913  -3.17391304]\n",
      "[-8.91304348 10.2173913  -3.17391304]\n"
     ]
    }
   ],
   "source": [
    "A = np.array([[2,4,6], [1,-3,-9], [8,5,-7]])\n",
    "b = np.array([4, -11, 2])\n",
    "ans = scipy.linalg.solve(A, b)\n",
    "print(ans)\n",
    "print(np.dot(scipy.linalg.inv(A), b))"
   ]
  },
  {
   "cell_type": "markdown",
   "id": "87c2e59a",
   "metadata": {},
   "source": [
    "Pandas一种常用的数据处理包，他的数据储存结构为Dataframe，底层由numpy实现，其结构类似表格\n",
    "\n",
    "它可以帮助你自动处理很多格式的数据文件（推荐自己处理）"
   ]
  },
  {
   "cell_type": "code",
   "execution_count": 47,
   "id": "08bd5a4f",
   "metadata": {},
   "outputs": [
    {
     "name": "stdout",
     "output_type": "stream",
     "text": [
      "     a  b  c\n",
      "0  1.0  2  3\n",
      "1  4.5  5  6\n",
      "2  7.0  8  9\n",
      "0    1.0\n",
      "1    4.5\n",
      "2    7.0\n",
      "Name: a, dtype: float64\n",
      "0    1.0\n",
      "1    4.5\n",
      "2    7.0\n",
      "Name: a, dtype: float64\n",
      "1    4.5\n",
      "2    7.0\n",
      "Name: a, dtype: float64\n"
     ]
    }
   ],
   "source": [
    "import pandas as pd\n",
    "scat = pd.read_csv('./ScatMieData.csv') \n",
    "print(scat)\n",
    "print(scat.a)\n",
    "print(scat['a'])\n",
    "print(scat.a[1:3])"
   ]
  },
  {
   "cell_type": "code",
   "execution_count": 50,
   "id": "78d42055",
   "metadata": {},
   "outputs": [
    {
     "name": "stdout",
     "output_type": "stream",
     "text": [
      "     0  1  2\n",
      "0    a  b  c\n",
      "1    1  2  3\n",
      "2  4.5  5  6\n",
      "3    7  8  9\n",
      "a\n"
     ]
    }
   ],
   "source": [
    "head = pd.read_csv('ScatMieData.csv', header=None)\n",
    "print(head)\n",
    "print(head[0][0])"
   ]
  },
  {
   "cell_type": "markdown",
   "id": "c7865e3d",
   "metadata": {},
   "source": [
    "可以自定义数据分隔符"
   ]
  },
  {
   "cell_type": "code",
   "execution_count": 54,
   "id": "36fd0832",
   "metadata": {},
   "outputs": [
    {
     "name": "stdout",
     "output_type": "stream",
     "text": [
      "     A  B  C\n",
      "0    a  b  c\n",
      "1    1  2  3\n",
      "2  4.5  5  6\n",
      "3    7  8  9\n"
     ]
    }
   ],
   "source": [
    "head = pd.read_table('ScatMieData.csv', sep=',', names=['A', 'B','C']) \n",
    "print(head)"
   ]
  },
  {
   "cell_type": "code",
   "execution_count": 56,
   "id": "01152834",
   "metadata": {},
   "outputs": [
    {
     "name": "stdout",
     "output_type": "stream",
     "text": [
      "    planet  distance      mass  gravity  diameter    year\n",
      "0  Mercury      0.39    0.0550    0.380      0.38    0.24\n",
      "1    Venus      0.72    0.8200    0.910      0.95    0.62\n",
      "2    Earth      1.00    1.0000    1.000      1.00    1.00\n",
      "3     Mars      1.52    0.1100    0.380      0.53    1.88\n",
      "4  Jupiter      5.20  318.0000    2.360     11.20   11.90\n",
      "5   Saturn      9.58   95.0000    0.920      9.45   29.00\n",
      "6   Uranus     19.20   15.0000    0.890      4.01   84.00\n",
      "7  Neptune     30.00   17.0000    1.120      3.88  164.00\n",
      "8    Pluto     39.50    0.0024    0.071      0.19  248.00\n"
     ]
    }
   ],
   "source": [
    "planets = pd.read_table('planetData.txt', sep='\\s+') # 匹配任何空白字符，包括空格、制表符、换页符等等, 等价于[\\f\\n\\r\\t\\v]\n",
    "print(planets)"
   ]
  },
  {
   "cell_type": "markdown",
   "id": "f6ba0a6b",
   "metadata": {},
   "source": [
    "可以指定索引行"
   ]
  },
  {
   "cell_type": "code",
   "execution_count": 57,
   "id": "3495445b",
   "metadata": {},
   "outputs": [
    {
     "name": "stdout",
     "output_type": "stream",
     "text": [
      "         distance      mass  gravity  diameter    year\n",
      "planet                                                \n",
      "Mercury      0.39    0.0550    0.380      0.38    0.24\n",
      "Venus        0.72    0.8200    0.910      0.95    0.62\n",
      "Earth        1.00    1.0000    1.000      1.00    1.00\n",
      "Mars         1.52    0.1100    0.380      0.53    1.88\n",
      "Jupiter      5.20  318.0000    2.360     11.20   11.90\n",
      "Saturn       9.58   95.0000    0.920      9.45   29.00\n",
      "Uranus      19.20   15.0000    0.890      4.01   84.00\n",
      "Neptune     30.00   17.0000    1.120      3.88  164.00\n",
      "Pluto       39.50    0.0024    0.071      0.19  248.00\n"
     ]
    }
   ],
   "source": [
    "planets = pd.read_table('planetData.txt', sep='\\s+', index_col='planet')\n",
    "print(planets)"
   ]
  },
  {
   "cell_type": "markdown",
   "id": "1ef6f774",
   "metadata": {},
   "source": [
    "读取Excel"
   ]
  },
  {
   "cell_type": "code",
   "execution_count": 62,
   "id": "a8819a5d",
   "metadata": {},
   "outputs": [
    {
     "name": "stdout",
     "output_type": "stream",
     "text": [
      "   A  B  C\n",
      "0  1  2  3\n",
      "1  4  5  6\n"
     ]
    }
   ],
   "source": [
    "bp = pd.read_excel('Excel.xlsx', usecols=\"A:E\")\n",
    "print(bp)"
   ]
  },
  {
   "cell_type": "markdown",
   "id": "7e3d7f94",
   "metadata": {},
   "source": [
    "时间"
   ]
  },
  {
   "cell_type": "code",
   "execution_count": 113,
   "id": "0aff4b88",
   "metadata": {},
   "outputs": [
    {
     "name": "stdout",
     "output_type": "stream",
     "text": [
      "2022-12-02 19:47:57.187129\n",
      "12/02/22-December-2022 19:47:57\n"
     ]
    }
   ],
   "source": [
    "import datetime as dt\n",
    "t0 = dt.datetime.now()\n",
    "print(t0)\n",
    "t1 = t0.strftime('%D-%B-%Y %H:%M:%S')\n",
    "print(t1)"
   ]
  },
  {
   "cell_type": "code",
   "execution_count": 81,
   "id": "e8032629",
   "metadata": {},
   "outputs": [
    {
     "name": "stdout",
     "output_type": "stream",
     "text": [
      "2019-02-27 17:50:30\n"
     ]
    }
   ],
   "source": [
    "t = '2019/2/27 17:50:30'\n",
    "print(dt.datetime.strptime(t,\"%Y/%m/%d %H:%M:%S\"))"
   ]
  },
  {
   "cell_type": "markdown",
   "id": "d9fe19c6",
   "metadata": {},
   "source": [
    "Series: 一维的dataframe"
   ]
  },
  {
   "cell_type": "code",
   "execution_count": 88,
   "id": "306f5ee9",
   "metadata": {},
   "outputs": [
    {
     "name": "stdout",
     "output_type": "stream",
     "text": [
      "a   -1.112320\n",
      "b   -0.079930\n",
      "c   -0.623951\n",
      "d    1.393551\n",
      "e   -0.412231\n",
      "dtype: float64\n",
      "b   -0.079930\n",
      "c   -0.623951\n",
      "dtype: float64\n",
      "-1.112319508994168\n",
      "Index(['a', 'b', 'c', 'd', 'e'], dtype='object')\n",
      "[-1.11231951 -0.07992987 -0.62395134  1.39355143 -0.41223066]\n"
     ]
    }
   ],
   "source": [
    "s = pd.Series(np.random.randn(5), index=['a', 'b', 'c', 'd', 'e'])\n",
    "print(s)\n",
    "print(s[1:3])\n",
    "print(s['a'])\n",
    "print(s.index)\n",
    "print(s.values)"
   ]
  },
  {
   "cell_type": "code",
   "execution_count": 89,
   "id": "a4630ac8",
   "metadata": {},
   "outputs": [
    {
     "name": "stdout",
     "output_type": "stream",
     "text": [
      "DatetimeIndex(['2017-07-22', '2017-07-23', '2017-07-24', '2017-07-25',\n",
      "               '2017-07-26', '2017-07-27'],\n",
      "              dtype='datetime64[ns]', freq='D')\n"
     ]
    }
   ],
   "source": [
    "dtr = pd.date_range('2017-07-22', periods=6)\n",
    "print(dtr)"
   ]
  },
  {
   "cell_type": "markdown",
   "id": "fd53e712",
   "metadata": {},
   "source": [
    "Dataframe：二维的表格"
   ]
  },
  {
   "cell_type": "code",
   "execution_count": 91,
   "id": "4c63c056",
   "metadata": {},
   "outputs": [
    {
     "name": "stdout",
     "output_type": "stream",
     "text": [
      "         distance      mass  gravity  diameter    year\n",
      "planet                                                \n",
      "Mercury      0.39    0.0550    0.380      0.38    0.24\n",
      "Venus        0.72    0.8200    0.910      0.95    0.62\n",
      "Earth        1.00    1.0000    1.000      1.00    1.00\n",
      "Mars         1.52    0.1100    0.380      0.53    1.88\n",
      "Jupiter      5.20  318.0000    2.360     11.20   11.90\n",
      "Saturn       9.58   95.0000    0.920      9.45   29.00\n",
      "Uranus      19.20   15.0000    0.890      4.01   84.00\n",
      "Neptune     30.00   17.0000    1.120      3.88  164.00\n",
      "Pluto       39.50    0.0024    0.071      0.19  248.00\n",
      "         distance   mass  gravity  diameter  year\n",
      "planet                                           \n",
      "Mercury      0.39  0.055     0.38      0.38  0.24\n",
      "Venus        0.72  0.820     0.91      0.95  0.62\n",
      "Earth        1.00  1.000     1.00      1.00  1.00\n",
      "         distance     mass  gravity  diameter   year\n",
      "planet                                              \n",
      "Uranus       19.2  15.0000    0.890      4.01   84.0\n",
      "Neptune      30.0  17.0000    1.120      3.88  164.0\n",
      "Pluto        39.5   0.0024    0.071      0.19  248.0\n"
     ]
    }
   ],
   "source": [
    "planets = pd.read_table('planetData.txt', sep='\\s+', index_col='planet')\n",
    "print(planets)\n",
    "print(planets.head(3))\n",
    "print(planets.tail(3))"
   ]
  },
  {
   "cell_type": "markdown",
   "id": "3112158a",
   "metadata": {},
   "source": [
    "筛选"
   ]
  },
  {
   "cell_type": "code",
   "execution_count": 95,
   "id": "69193e09",
   "metadata": {},
   "outputs": [
    {
     "name": "stdout",
     "output_type": "stream",
     "text": [
      "         distance   mass  gravity\n",
      "planet                           \n",
      "Mercury      0.39  0.055     0.38\n",
      "Venus        0.72  0.820     0.91\n"
     ]
    }
   ],
   "source": [
    "new_plan = planets.iloc[0:2,0:3]\n",
    "print(new_plan)"
   ]
  },
  {
   "cell_type": "code",
   "execution_count": 93,
   "id": "8e844a59",
   "metadata": {},
   "outputs": [
    {
     "name": "stdout",
     "output_type": "stream",
     "text": [
      "        distance  mass  gravity  diameter  year\n",
      "planet                                         \n",
      "Saturn      9.58  95.0     0.92      9.45  29.0\n",
      "Uranus     19.20  15.0     0.89      4.01  84.0\n"
     ]
    }
   ],
   "source": [
    "new_plan = planets.loc[(planets['mass'] > 1.0) & (planets['gravity'] < 1.0)]\n",
    "print(new_plan)"
   ]
  },
  {
   "cell_type": "markdown",
   "id": "bd5e2771",
   "metadata": {},
   "source": [
    "创建Dataframe\n",
    "\n",
    "创建方式多种多样，一下仅列举几个示例"
   ]
  },
  {
   "cell_type": "code",
   "execution_count": 100,
   "id": "78ce1b8b",
   "metadata": {},
   "outputs": [
    {
     "name": "stdout",
     "output_type": "stream",
     "text": [
      "   A  B  C\n",
      "a  1  2  3\n",
      "b  1  2  3\n",
      "c  1  2  3\n"
     ]
    }
   ],
   "source": [
    "df = pd.DataFrame(data=[[1,2,3],[1,2,3],[1,2,3]], index=['a','b','c'], columns=['A','B','C'])\n",
    "print(df)"
   ]
  },
  {
   "cell_type": "code",
   "execution_count": 101,
   "id": "2ba1e0a0",
   "metadata": {},
   "outputs": [
    {
     "name": "stdout",
     "output_type": "stream",
     "text": [
      "   one  two\n",
      "a  1.0  1.0\n",
      "b  2.0  2.0\n",
      "c  3.0  3.0\n",
      "d  NaN  4.0\n"
     ]
    }
   ],
   "source": [
    "dict_series = {'one' : pd.Series([1., 2., 3.], index=['a', 'b', 'c']),'two' : pd.Series([1., 2., 3., 4.], index=['a', 'b', 'c', 'd'])}\n",
    "df = pd.DataFrame(dict_series)\n",
    "print(df)"
   ]
  },
  {
   "cell_type": "code",
   "execution_count": 102,
   "id": "39c1471f",
   "metadata": {},
   "outputs": [
    {
     "name": "stdout",
     "output_type": "stream",
     "text": [
      "(4, 2)\n",
      "Index(['a', 'b', 'c', 'd'], dtype='object')\n",
      "Index(['one', 'two'], dtype='object')\n"
     ]
    }
   ],
   "source": [
    "print(df.shape)\n",
    "print(df.index)\n",
    "print(df.columns)"
   ]
  },
  {
   "cell_type": "code",
   "execution_count": 103,
   "id": "5fa520e6",
   "metadata": {},
   "outputs": [
    {
     "name": "stdout",
     "output_type": "stream",
     "text": [
      "   a  b\n",
      "0  1  4\n",
      "1  2  5\n",
      "2  3  6\n"
     ]
    }
   ],
   "source": [
    "dicts_only = {'a':[1,2,3], 'b':[4,5,6]}\n",
    "dict_df = pd.DataFrame(dicts_only)\n",
    "print(dict_df)"
   ]
  },
  {
   "cell_type": "markdown",
   "id": "5e9b06d7",
   "metadata": {},
   "source": [
    "Dataframe的计算"
   ]
  },
  {
   "cell_type": "code",
   "execution_count": 106,
   "id": "bb3d6170",
   "metadata": {},
   "outputs": [
    {
     "name": "stdout",
     "output_type": "stream",
     "text": [
      "         distance      mass  gravity  diameter    year\n",
      "planet                                                \n",
      "Pluto       39.50    0.0024    0.071      0.19  248.00\n",
      "Mercury      0.39    0.0550    0.380      0.38    0.24\n",
      "Mars         1.52    0.1100    0.380      0.53    1.88\n",
      "Venus        0.72    0.8200    0.910      0.95    0.62\n",
      "Earth        1.00    1.0000    1.000      1.00    1.00\n",
      "Uranus      19.20   15.0000    0.890      4.01   84.00\n",
      "Neptune     30.00   17.0000    1.120      3.88  164.00\n",
      "Saturn       9.58   95.0000    0.920      9.45   29.00\n",
      "Jupiter      5.20  318.0000    2.360     11.20   11.90\n",
      "         distance   mass  gravity  diameter   year\n",
      "planet                                            \n",
      "Neptune      30.0   17.0     1.12      3.88  164.0\n",
      "Jupiter       5.2  318.0     2.36     11.20   11.9\n"
     ]
    }
   ],
   "source": [
    "planets = pd.read_table('planetData.txt', sep='\\s+', index_col='planet')\n",
    "planets = planets.sort_values(by='mass')\n",
    "print(planets)\n",
    "planets = planets[planets['gravity']>1]\n",
    "print(planets)"
   ]
  },
  {
   "cell_type": "code",
   "execution_count": 109,
   "id": "7c4489ec",
   "metadata": {},
   "outputs": [
    {
     "name": "stdout",
     "output_type": "stream",
     "text": [
      "         distance   mass  gravity  diameter   year      volume\n",
      "planet                                                        \n",
      "Neptune      30.0   17.0     1.12      3.88  164.0   30.583966\n",
      "Jupiter       5.2  318.0     2.36     11.20   11.9  735.618581\n",
      "383.10127319217537\n"
     ]
    }
   ],
   "source": [
    "planets['volume'] = np.pi * planets['diameter']**3 / 6.0\n",
    "print(planets)\n",
    "print(planets['volume'].mean())"
   ]
  },
  {
   "cell_type": "markdown",
   "id": "34a9a691",
   "metadata": {},
   "source": [
    "统计"
   ]
  },
  {
   "cell_type": "code",
   "execution_count": 112,
   "id": "4bda032c",
   "metadata": {},
   "outputs": [
    {
     "name": "stdout",
     "output_type": "stream",
     "text": [
      "   a  b\n",
      "0  1  4\n",
      "1  2  5\n",
      "2  3  5\n",
      "b\n",
      "5    2\n",
      "4    1\n",
      "dtype: int64\n"
     ]
    }
   ],
   "source": [
    "dicts_only = {'a':[1,2,3], 'b':[4,5,5]}\n",
    "dict_df = pd.DataFrame(dicts_only)\n",
    "print(dict_df)\n",
    "print(dict_df.value_counts('b'))"
   ]
  },
  {
   "cell_type": "markdown",
   "id": "312e71d4",
   "metadata": {},
   "source": [
    "练习\n",
    "\n",
    "https://leetcode.cn/problems/deep-dark-fraction/\n",
    "\n",
    "https://leetcode.cn/problems/count-asterisks/"
   ]
  },
  {
   "cell_type": "code",
   "execution_count": null,
   "id": "c1f42928",
   "metadata": {},
   "outputs": [],
   "source": [
    "#deep-dark-fraction\n",
    "    \n",
    "def fraction(self, cont):\n",
    "    \"\"\"\n",
    "    :type cont: List[int]\n",
    "    :rtype: List[int]\n",
    "    \"\"\"\n",
    "    up = 1\n",
    "    down = cont.pop(-1)\n",
    "    while(len(cont)>0):\n",
    "        tmp = down\n",
    "        down = up + cont.pop(-1) * down\n",
    "        up = tmp\n",
    "    fraction = min(up,down)\n",
    "    while(fraction!=1):\n",
    "        if((up%fraction==0) and (down%fraction==0)):\n",
    "            up = up/fraction\n",
    "            down = down/fraction\n",
    "            fraction = min(up,down)\n",
    "        else:\n",
    "            fraction = fraction - 1\n",
    "    return [down, up]"
   ]
  }
 ],
 "metadata": {
  "kernelspec": {
   "display_name": "Python [conda env:pytorch_d]",
   "language": "python",
   "name": "pytorch_d"
  },
  "language_info": {
   "codemirror_mode": {
    "name": "ipython",
    "version": 3
   },
   "file_extension": ".py",
   "mimetype": "text/x-python",
   "name": "python",
   "nbconvert_exporter": "python",
   "pygments_lexer": "ipython3",
   "version": "3.8.6"
  }
 },
 "nbformat": 4,
 "nbformat_minor": 5
}
